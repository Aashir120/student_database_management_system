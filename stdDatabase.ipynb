{
 "cells": [
  {
   "cell_type": "code",
   "execution_count": 6,
   "metadata": {},
   "outputs": [],
   "source": [
    "import sqlite3\n",
    "#backend\n",
    "\n",
    "def studentData():\n",
    "    con = sqlite3.connect(\"student.db\")\n",
    "    con.cursor()\n",
    "    cur.execute(\"CREATE TABLE IF NOT EXISTS student(id INTEGER PRIMARY KEY,StdID text,Firstname text,Surname text,DoB text,\\\n",
    "    Age text,Gender text,Address text,Mobile text)\")\n",
    "    con.commit()\n",
    "    con.close()\n",
    "    \n",
    "def addStdRec(StdID,Firstname,Surname,DoB,Age,Gender,Address,Mobile):\n",
    "    con.sqlite3.connect(\"student.db\")\n",
    "    cur = con.cursor()\n",
    "    cur.execute = (\"INSERT INTO student VALUES (NULL, ?,?,?,?,?,?,?,?)\",(StdID,Firstname,Surname,DoB,Age,Gender,Address,Mobile))\n",
    "    con.commit()\n",
    "    con.close()\n",
    "\n",
    "def viewDate():\n",
    "    con.sqlite3.connect(\"student.db\")\n",
    "    cur = con.cursor()\n",
    "    cur.execute = (\"SELECT * FROM student\")\n",
    "    rows = cur.fetchall()\n",
    "    con.close()\n",
    "    return rows\n",
    "\n",
    "def deleteRec(id):\n",
    "    con.sqlite3.connect(\"student.db\")\n",
    "    cur = con.cursor()\n",
    "    cur.execute = (\"DELETE FROM student WHERE ID =?\",(id))\n",
    "    con.commit()\n",
    "    con.close()\n",
    "    \n",
    "def searchData(StdID=\"\",Firstname=\"\",Surname=\"\",DoB=\"\",Age=\"\",Gender=\"\",Address=\"\",Mobile=\"\"):\n",
    "    con.sqlite3.connect(\"student.db\")\n",
    "    cur = con.cursor()\n",
    "    cur.execute = (\"SELECT * FROM student WHERE StdID=? OR Firstname =? OR Surname = ? OR DoB=? OR Age=? OR Gender=? OR Address=? OR \\\n",
    "    Mobile=?\",(StdID,Firstname,Surname,DoB,Age,Gender,Address,Mobile))\n",
    "    rows = cur.fetchall()\n",
    "    con.close()\n",
    "    return rows\n",
    "\n",
    "def dataUpdate(id,StdID=\"\",Firstname=\"\",Surname=\"\",DoB=\"\",Age=\"\",Gender=\"\",Address=\"\",Mobile=\"\"):\n",
    "    con.sqlite3.connect(\"student.db\")\n",
    "    cur = con.cursor()\n",
    "    cur.execute = (\"UPDATE student SET StdID=?,Firstname =?,Surname = ?,DoB=?,Age=?,Gender=?,Address=?,Mobile=? \\\n",
    "    WHERE id=?\",(StdID,Firstname,Surname,DoB,Age,Gender,Address,Mobile,id))\n",
    "    con.commit()\n",
    "    con.close()\n",
    "    "
   ]
  }
 ],
 "metadata": {
  "kernelspec": {
   "display_name": "Python 3",
   "language": "python",
   "name": "python3"
  },
  "language_info": {
   "codemirror_mode": {
    "name": "ipython",
    "version": 3
   },
   "file_extension": ".py",
   "mimetype": "text/x-python",
   "name": "python",
   "nbconvert_exporter": "python",
   "pygments_lexer": "ipython3",
   "version": "3.7.4"
  }
 },
 "nbformat": 4,
 "nbformat_minor": 2
}
